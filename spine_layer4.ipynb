{
 "cells": [
  {
   "cell_type": "markdown",
   "metadata": {},
   "source": [
    "This Spine model is based on the basic brain model. This works similar to the brain and spine of the human body. In the brain and spine, the spine is necessary for the responding to the reflex actions. In the similar way a separate column of the predicted values, with 80% accuracy and 20% false randomized values, is added to the fourth hidden  layer of the brain.This helps in increasing the accuracy of the model and optimizing the model's output speed."
   ]
  },
  {
   "cell_type": "code",
   "execution_count": 34,
   "metadata": {},
   "outputs": [],
   "source": [
    "import numpy as np\n",
    "import pandas as pd\n",
    "from sklearn.preprocessing import LabelEncoder, OneHotEncoder\n",
    "from sklearn.model_selection import train_test_split\n",
    "from sklearn.preprocessing import StandardScaler\n",
    "import torch\n",
    "import torch.nn as nn\n",
    "import torch.optim as optim\n",
    "from torch.utils.data import DataLoader, TensorDataset"
   ]
  },
  {
   "cell_type": "code",
   "execution_count": 35,
   "metadata": {},
   "outputs": [
    {
     "data": {
      "text/html": [
       "<div>\n",
       "<style scoped>\n",
       "    .dataframe tbody tr th:only-of-type {\n",
       "        vertical-align: middle;\n",
       "    }\n",
       "\n",
       "    .dataframe tbody tr th {\n",
       "        vertical-align: top;\n",
       "    }\n",
       "\n",
       "    .dataframe thead th {\n",
       "        text-align: right;\n",
       "    }\n",
       "</style>\n",
       "<table border=\"1\" class=\"dataframe\">\n",
       "  <thead>\n",
       "    <tr style=\"text-align: right;\">\n",
       "      <th></th>\n",
       "      <th>ID</th>\n",
       "      <th>Gender</th>\n",
       "      <th>Ever_Married</th>\n",
       "      <th>Age</th>\n",
       "      <th>Graduated</th>\n",
       "      <th>Profession</th>\n",
       "      <th>Work_Experience</th>\n",
       "      <th>Spending_Score</th>\n",
       "      <th>Family_Size</th>\n",
       "      <th>Var_1</th>\n",
       "      <th>Segmentation</th>\n",
       "    </tr>\n",
       "  </thead>\n",
       "  <tbody>\n",
       "    <tr>\n",
       "      <th>0</th>\n",
       "      <td>462809</td>\n",
       "      <td>Male</td>\n",
       "      <td>No</td>\n",
       "      <td>22</td>\n",
       "      <td>No</td>\n",
       "      <td>Healthcare</td>\n",
       "      <td>1.0</td>\n",
       "      <td>Low</td>\n",
       "      <td>4.0</td>\n",
       "      <td>Cat_4</td>\n",
       "      <td>D</td>\n",
       "    </tr>\n",
       "    <tr>\n",
       "      <th>1</th>\n",
       "      <td>462643</td>\n",
       "      <td>Female</td>\n",
       "      <td>Yes</td>\n",
       "      <td>38</td>\n",
       "      <td>Yes</td>\n",
       "      <td>Engineer</td>\n",
       "      <td>NaN</td>\n",
       "      <td>Average</td>\n",
       "      <td>3.0</td>\n",
       "      <td>Cat_4</td>\n",
       "      <td>A</td>\n",
       "    </tr>\n",
       "    <tr>\n",
       "      <th>2</th>\n",
       "      <td>466315</td>\n",
       "      <td>Female</td>\n",
       "      <td>Yes</td>\n",
       "      <td>67</td>\n",
       "      <td>Yes</td>\n",
       "      <td>Engineer</td>\n",
       "      <td>1.0</td>\n",
       "      <td>Low</td>\n",
       "      <td>1.0</td>\n",
       "      <td>Cat_6</td>\n",
       "      <td>B</td>\n",
       "    </tr>\n",
       "    <tr>\n",
       "      <th>3</th>\n",
       "      <td>461735</td>\n",
       "      <td>Male</td>\n",
       "      <td>Yes</td>\n",
       "      <td>67</td>\n",
       "      <td>Yes</td>\n",
       "      <td>Lawyer</td>\n",
       "      <td>0.0</td>\n",
       "      <td>High</td>\n",
       "      <td>2.0</td>\n",
       "      <td>Cat_6</td>\n",
       "      <td>B</td>\n",
       "    </tr>\n",
       "    <tr>\n",
       "      <th>4</th>\n",
       "      <td>462669</td>\n",
       "      <td>Female</td>\n",
       "      <td>Yes</td>\n",
       "      <td>40</td>\n",
       "      <td>Yes</td>\n",
       "      <td>Entertainment</td>\n",
       "      <td>NaN</td>\n",
       "      <td>High</td>\n",
       "      <td>6.0</td>\n",
       "      <td>Cat_6</td>\n",
       "      <td>A</td>\n",
       "    </tr>\n",
       "  </tbody>\n",
       "</table>\n",
       "</div>"
      ],
      "text/plain": [
       "       ID  Gender Ever_Married  Age Graduated     Profession  Work_Experience  \\\n",
       "0  462809    Male           No   22        No     Healthcare              1.0   \n",
       "1  462643  Female          Yes   38       Yes       Engineer              NaN   \n",
       "2  466315  Female          Yes   67       Yes       Engineer              1.0   \n",
       "3  461735    Male          Yes   67       Yes         Lawyer              0.0   \n",
       "4  462669  Female          Yes   40       Yes  Entertainment              NaN   \n",
       "\n",
       "  Spending_Score  Family_Size  Var_1 Segmentation  \n",
       "0            Low          4.0  Cat_4            D  \n",
       "1        Average          3.0  Cat_4            A  \n",
       "2            Low          1.0  Cat_6            B  \n",
       "3           High          2.0  Cat_6            B  \n",
       "4           High          6.0  Cat_6            A  "
      ]
     },
     "execution_count": 35,
     "metadata": {},
     "output_type": "execute_result"
    }
   ],
   "source": [
    "train_df = pd.read_csv(\"C:\\\\Users\\\\Mokshda Sharma\\\\Desktop\\\\My Projects\\\\Biomimicry\\\\train.csv\")\n",
    "train_df.head()"
   ]
  },
  {
   "cell_type": "code",
   "execution_count": 36,
   "metadata": {},
   "outputs": [],
   "source": [
    "numerical_cols = train_df.select_dtypes(include=['int64', 'float64']).columns.tolist()\n",
    "categorical_cols = train_df.select_dtypes(include=['object', 'category']).columns.tolist()"
   ]
  },
  {
   "cell_type": "code",
   "execution_count": 37,
   "metadata": {},
   "outputs": [
    {
     "name": "stdout",
     "output_type": "stream",
     "text": [
      "['ID', 'Age', 'Work_Experience', 'Family_Size']\n",
      "['Gender', 'Ever_Married', 'Graduated', 'Profession', 'Spending_Score', 'Var_1', 'Segmentation']\n"
     ]
    }
   ],
   "source": [
    "print(numerical_cols)\n",
    "print(categorical_cols)"
   ]
  },
  {
   "cell_type": "code",
   "execution_count": 38,
   "metadata": {},
   "outputs": [
    {
     "name": "stdout",
     "output_type": "stream",
     "text": [
      "<class 'pandas.core.frame.DataFrame'>\n",
      "RangeIndex: 8068 entries, 0 to 8067\n",
      "Data columns (total 11 columns):\n",
      " #   Column           Non-Null Count  Dtype  \n",
      "---  ------           --------------  -----  \n",
      " 0   ID               8068 non-null   int64  \n",
      " 1   Gender           8068 non-null   object \n",
      " 2   Ever_Married     7928 non-null   object \n",
      " 3   Age              8068 non-null   int64  \n",
      " 4   Graduated        7990 non-null   object \n",
      " 5   Profession       7944 non-null   object \n",
      " 6   Work_Experience  7239 non-null   float64\n",
      " 7   Spending_Score   8068 non-null   object \n",
      " 8   Family_Size      7733 non-null   float64\n",
      " 9   Var_1            7992 non-null   object \n",
      " 10  Segmentation     8068 non-null   object \n",
      "dtypes: float64(2), int64(2), object(7)\n",
      "memory usage: 693.5+ KB\n"
     ]
    }
   ],
   "source": [
    "train_df.info()"
   ]
  },
  {
   "cell_type": "code",
   "execution_count": 39,
   "metadata": {},
   "outputs": [
    {
     "name": "stderr",
     "output_type": "stream",
     "text": [
      "C:\\Users\\Mokshda Sharma\\AppData\\Local\\Temp\\ipykernel_15988\\3161636716.py:1: FutureWarning: A value is trying to be set on a copy of a DataFrame or Series through chained assignment using an inplace method.\n",
      "The behavior will change in pandas 3.0. This inplace method will never work because the intermediate object on which we are setting values always behaves as a copy.\n",
      "\n",
      "For example, when doing 'df[col].method(value, inplace=True)', try using 'df.method({col: value}, inplace=True)' or df[col] = df[col].method(value) instead, to perform the operation inplace on the original object.\n",
      "\n",
      "\n",
      "  train_df['Work_Experience'].fillna(train_df['Work_Experience'].mean(), inplace=True)\n",
      "C:\\Users\\Mokshda Sharma\\AppData\\Local\\Temp\\ipykernel_15988\\3161636716.py:2: FutureWarning: A value is trying to be set on a copy of a DataFrame or Series through chained assignment using an inplace method.\n",
      "The behavior will change in pandas 3.0. This inplace method will never work because the intermediate object on which we are setting values always behaves as a copy.\n",
      "\n",
      "For example, when doing 'df[col].method(value, inplace=True)', try using 'df.method({col: value}, inplace=True)' or df[col] = df[col].method(value) instead, to perform the operation inplace on the original object.\n",
      "\n",
      "\n",
      "  train_df['Family_Size'].fillna(train_df['Family_Size'].mean(), inplace=True)\n"
     ]
    }
   ],
   "source": [
    "train_df['Work_Experience'].fillna(train_df['Work_Experience'].mean(), inplace=True)\n",
    "train_df['Family_Size'].fillna(train_df['Family_Size'].mean(), inplace=True)"
   ]
  },
  {
   "cell_type": "code",
   "execution_count": 40,
   "metadata": {},
   "outputs": [],
   "source": [
    "label_encoders = {}\n",
    "label_encoder = LabelEncoder()\n",
    "for col in categorical_cols:\n",
    "    train_df[col] = label_encoder.fit_transform(train_df[col])"
   ]
  },
  {
   "cell_type": "code",
   "execution_count": 41,
   "metadata": {},
   "outputs": [],
   "source": [
    "scaler = StandardScaler()\n",
    "numeric_cols = ['Age', 'Work_Experience', 'Spending_Score', 'Family_Size']\n",
    "train_df[numeric_cols] = scaler.fit_transform(train_df[numeric_cols])"
   ]
  },
  {
   "cell_type": "code",
   "execution_count": 42,
   "metadata": {},
   "outputs": [],
   "source": [
    "X = train_df.drop(['ID', 'Segmentation'], axis=1)  \n",
    "y = train_df['Segmentation']"
   ]
  },
  {
   "cell_type": "code",
   "execution_count": 43,
   "metadata": {},
   "outputs": [],
   "source": [
    "Z = y.copy()  \n",
    "n_samples = len(Z)\n",
    "random_indices = np.random.choice(n_samples, int(0.2 * n_samples), replace=False)\n",
    "Z.iloc[random_indices] = np.random.randint(0, 4, size=len(random_indices))  \n",
    "X['Z'] = Z "
   ]
  },
  {
   "cell_type": "code",
   "execution_count": 44,
   "metadata": {},
   "outputs": [],
   "source": [
    "X_train, X_test, y_train, y_test = train_test_split(X, y, test_size=0.2, random_state=42)"
   ]
  },
  {
   "cell_type": "code",
   "execution_count": 45,
   "metadata": {},
   "outputs": [],
   "source": [
    "X_train_tensor = torch.tensor(X_train.drop('Z', axis=1).values, dtype=torch.float32)\n",
    "y_train_tensor = torch.tensor(y_train.values, dtype=torch.long)\n",
    "Z_train_tensor = torch.tensor(X_train['Z'].values, dtype=torch.float32)\n",
    "\n",
    "X_test_tensor = torch.tensor(X_test.drop('Z', axis=1).values, dtype=torch.float32)\n",
    "y_test_tensor = torch.tensor(y_test.values, dtype=torch.long)"
   ]
  },
  {
   "cell_type": "code",
   "execution_count": 46,
   "metadata": {},
   "outputs": [],
   "source": [
    "# class CustomerSegmentationModel(nn.Module):\n",
    "#     def __init__(self, input_dim):\n",
    "#         super(CustomerSegmentationModel, self).__init__()\n",
    "#         self.layer1 = nn.Linear(input_dim, 64)  \n",
    "#         self.layer2 = nn.Linear(64, 32)        \n",
    "#         self.layer3 = nn.Linear(32, 16)        \n",
    "#         self.layer4 = nn.Linear(16, 8)         \n",
    "#         self.output_layer = nn.Linear(8, 4)    \n",
    "#         self.relu = nn.ReLU()                  \n",
    "    \n",
    "#     def forward(self, x, z=None):\n",
    "#         x = self.relu(self.layer1(x))\n",
    "#         x = self.relu(self.layer2(x))\n",
    "        \n",
    "#         if z is not None:\n",
    "#             x = torch.cat((x, z.unsqueeze(1)), dim=1)  \n",
    "        \n",
    "#         x = self.relu(self.layer3(x))\n",
    "#         x = self.relu(self.layer4(x))\n",
    "#         x = self.output_layer(x)\n",
    "#         return x"
   ]
  },
  {
   "cell_type": "code",
   "execution_count": 47,
   "metadata": {},
   "outputs": [],
   "source": [
    "class CustomerSegmentationModel(nn.Module):\n",
    "    def __init__(self, input_dim):\n",
    "        super(CustomerSegmentationModel, self).__init__()\n",
    "        \n",
    "        # Corrected layer sizes\n",
    "        self.layer1 = nn.Linear(input_dim, 256)     # Input layer\n",
    "        self.layer2 = nn.Linear(256, 128)           # First hidden layer\n",
    "        self.layer3 = nn.Linear(128, 64)            # Second hidden layer\n",
    "        \n",
    "        # After concatenating Z (1 feature), input to layer4 becomes 65\n",
    "        self.layer4 = nn.Linear(64, 32)         # Third hidden layer\n",
    "        self.layer5 = nn.Linear(32 +1 , 16)             # Fourth hidden layer\n",
    "        self.layer6 = nn.Linear(16, 8)              # Fifth hidden layer\n",
    "        self.output_layer = nn.Linear(8, 4)         # Output layer (4 classes)\n",
    "        \n",
    "        self.relu = nn.ReLU()                       # ReLU activation function\n",
    "    \n",
    "    def forward(self, x, z=None):\n",
    "        # Pass input through the first layers\n",
    "        x = self.relu(self.layer1(x))  # First hidden layer\n",
    "        x = self.relu(self.layer2(x))  # Second hidden layer\n",
    "        x = self.relu(self.layer3(x))  # Third hidden layer\n",
    "        x = self.relu(self.layer4(x))  # Fourth hidden layer (with Z)\n",
    "        \n",
    "        # Concatenate Z if it is provided (during training)\n",
    "        if z is not None:\n",
    "            x = torch.cat((x, z.unsqueeze(1)), dim=1)  # Concatenate along features axis (dim=1)\n",
    "        \n",
    "        # Pass through remaining layers\n",
    "        x = self.relu(self.layer5(x))  # Fifth hidden layer\n",
    "        x = self.relu(self.layer6(x))  # Sixth hidden layer\n",
    "        \n",
    "        # Output layer to get final 4-class predictions\n",
    "        x = self.output_layer(x)\n",
    "        return x\n",
    "\n"
   ]
  },
  {
   "cell_type": "code",
   "execution_count": 48,
   "metadata": {},
   "outputs": [],
   "source": [
    "# model = CustomerSegmentationModel(input_dim=X_train_tensor.shape[1] )\n",
    "# optimizer = optim.Adam(model.parameters(), lr=0.001)\n",
    "# criterion = nn.CrossEntropyLoss()"
   ]
  },
  {
   "cell_type": "code",
   "execution_count": 49,
   "metadata": {},
   "outputs": [],
   "source": [
    "# num_epochs = 50\n",
    "# for epoch in range(num_epochs):\n",
    "#     model.train()\n",
    "#     optimizer.zero_grad()\n",
    "    \n",
    "#     # Forward pass\n",
    "#     outputs = model(X_train_tensor, Z_train_tensor)\n",
    "#     loss = criterion(outputs, y_train_tensor)\n",
    "    \n",
    "#     # Backward pass and optimization\n",
    "#     loss.backward()\n",
    "#     optimizer.step()\n",
    "    \n",
    "#     # Print loss every 10 epochs\n",
    "#     if (epoch + 1) % 10 == 0:\n",
    "#         print(f\"Epoch [{epoch + 1}/{num_epochs}], Loss: {loss.item():.4f}\")"
   ]
  },
  {
   "cell_type": "code",
   "execution_count": 50,
   "metadata": {},
   "outputs": [
    {
     "name": "stdout",
     "output_type": "stream",
     "text": [
      "Epoch [10/50], Loss: 1.4197\n",
      "Epoch [20/50], Loss: 1.3879\n",
      "Epoch [30/50], Loss: 1.2928\n",
      "Epoch [40/50], Loss: 1.1875\n",
      "Epoch [50/50], Loss: 1.1550\n"
     ]
    }
   ],
   "source": [
    "# Initialize the model, optimizer, and loss function\n",
    "input_dim = X_train_tensor.shape[1]  # Number of features in X_train\n",
    "model = CustomerSegmentationModel(input_dim=input_dim)\n",
    "\n",
    "optimizer = optim.Adam(model.parameters(), lr=0.001)\n",
    "criterion = nn.CrossEntropyLoss()\n",
    "\n",
    "# Training loop\n",
    "num_epochs = 50\n",
    "for epoch in range(num_epochs):\n",
    "    model.train()\n",
    "    optimizer.zero_grad()\n",
    "    \n",
    "    # Forward pass\n",
    "    outputs = model(X_train_tensor, Z_train_tensor)  # Pass both X and Z (train data)\n",
    "    \n",
    "    # Compute loss\n",
    "    loss = criterion(outputs, y_train_tensor)\n",
    "    \n",
    "    # Backward pass and optimization\n",
    "    loss.backward()\n",
    "    optimizer.step()\n",
    "    \n",
    "    # Print loss every 10 epochs\n",
    "    if (epoch + 1) % 10 == 0:\n",
    "        print(f\"Epoch [{epoch + 1}/{num_epochs}], Loss: {loss.item():.4f}\")\n"
   ]
  },
  {
   "cell_type": "code",
   "execution_count": 51,
   "metadata": {},
   "outputs": [],
   "source": [
    "# model.eval()\n",
    "# with torch.no_grad():\n",
    "#     test_outputs = model(X_test_tensor)\n",
    "#     _, predictions = torch.max(test_outputs, 1) \n",
    "#     accuracy = (predictions == y_test_tensor).float().mean()\n",
    "#     print(f\"Test Accuracy: {accuracy:.4f}\")"
   ]
  },
  {
   "cell_type": "code",
   "execution_count": 52,
   "metadata": {},
   "outputs": [
    {
     "name": "stdout",
     "output_type": "stream",
     "text": [
      "Test Accuracy: 0.4715\n"
     ]
    }
   ],
   "source": [
    "# Evaluation loop\n",
    "model.eval()\n",
    "with torch.no_grad():\n",
    "    # For evaluation, create dummy Z tensor filled with zeros (if needed)\n",
    "    Z_test_tensor = torch.zeros(X_test_tensor.size(0), dtype=torch.float32)\n",
    "    \n",
    "    # Forward pass for evaluation\n",
    "    test_outputs = model(X_test_tensor, Z_test_tensor)\n",
    "    \n",
    "    # Get predictions\n",
    "    _, predictions = torch.max(test_outputs, 1)\n",
    "    \n",
    "    # Compute accuracy\n",
    "    accuracy = (predictions == y_test_tensor).float().mean()\n",
    "    print(f\"Test Accuracy: {accuracy:.4f}\")\n"
   ]
  }
 ],
 "metadata": {
  "kernelspec": {
   "display_name": "env",
   "language": "python",
   "name": "python3"
  },
  "language_info": {
   "codemirror_mode": {
    "name": "ipython",
    "version": 3
   },
   "file_extension": ".py",
   "mimetype": "text/x-python",
   "name": "python",
   "nbconvert_exporter": "python",
   "pygments_lexer": "ipython3",
   "version": "3.12.3"
  }
 },
 "nbformat": 4,
 "nbformat_minor": 2
}
